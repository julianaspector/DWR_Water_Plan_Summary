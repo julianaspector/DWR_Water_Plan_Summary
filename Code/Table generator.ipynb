{
 "cells": [
  {
   "cell_type": "code",
   "execution_count": 1,
   "metadata": {},
   "outputs": [],
   "source": [
    "import pandas as pd"
   ]
  },
  {
   "cell_type": "code",
   "execution_count": 2,
   "metadata": {},
   "outputs": [],
   "source": [
    "data = pd.read_csv('Cleaned_Data.csv', usecols=range(1,12))\n",
    "pa_region_lookup = pd.read_csv('PA_Region_Lookup_Table.csv', usecols=range(1,3))"
   ]
  },
  {
   "cell_type": "code",
   "execution_count": 3,
   "metadata": {},
   "outputs": [],
   "source": [
    "cols = list(data.columns.values)"
   ]
  },
  {
   "cell_type": "code",
   "execution_count": 4,
   "metadata": {},
   "outputs": [
    {
     "data": {
      "text/plain": [
       "['PA.#',\n",
       " 'PA.Name',\n",
       " 'Total.GW.AG',\n",
       " 'Total.GW.Urban',\n",
       " 'Total.GW.MW',\n",
       " 'Total.GW.Use',\n",
       " 'Total.Supply.AG.(includes.Reuse)',\n",
       " 'Total.Supply.Urban.(includes.Reuse)',\n",
       " 'Total.Supply.MW.(includes.Reuse)',\n",
       " 'Year',\n",
       " 'Region']"
      ]
     },
     "execution_count": 4,
     "metadata": {},
     "output_type": "execute_result"
    }
   ],
   "source": [
    "cols"
   ]
  },
  {
   "cell_type": "code",
   "execution_count": 5,
   "metadata": {},
   "outputs": [],
   "source": [
    "cols = cols[0:1] + cols[6:9] + cols[2:6] + cols[9:11]"
   ]
  },
  {
   "cell_type": "code",
   "execution_count": 6,
   "metadata": {},
   "outputs": [
    {
     "data": {
      "text/plain": [
       "['PA.#',\n",
       " 'Total.Supply.AG.(includes.Reuse)',\n",
       " 'Total.Supply.Urban.(includes.Reuse)',\n",
       " 'Total.Supply.MW.(includes.Reuse)',\n",
       " 'Total.GW.AG',\n",
       " 'Total.GW.Urban',\n",
       " 'Total.GW.MW',\n",
       " 'Total.GW.Use',\n",
       " 'Year',\n",
       " 'Region']"
      ]
     },
     "execution_count": 6,
     "metadata": {},
     "output_type": "execute_result"
    }
   ],
   "source": [
    "cols"
   ]
  },
  {
   "cell_type": "code",
   "execution_count": 7,
   "metadata": {},
   "outputs": [],
   "source": [
    "data = data[cols]"
   ]
  },
  {
   "cell_type": "code",
   "execution_count": 8,
   "metadata": {},
   "outputs": [],
   "source": [
    "data.columns = data.columns.str.replace(\".\", \" \")\n",
    "pa_region_lookup.columns=pa_region_lookup.columns.str.replace(\".\", \" \")"
   ]
  },
  {
   "cell_type": "code",
   "execution_count": 9,
   "metadata": {},
   "outputs": [],
   "source": [
    "grouped_2005_2010 = round(data[data['Year'].isin(['2005', '2006', '2007', '2008', '2009', '2010'])].groupby(['PA #']).mean(),1)\n",
    "table_2005_2010 = grouped_2005_2010.join(pa_region_lookup.set_index('PA #'), on='PA #')\n",
    "table_2005_2010 = table_2005_2010.drop(columns=['Year'])\n",
    "table_2005_2010 = table_2005_2010.groupby(['Region']).sum().reindex([\"Sacramento River Region\",\n",
    "             \"Delta Region\",\n",
    "             \"Delta Eastside Tributaries\",\n",
    "              \"San Joaquin Valley\",\n",
    "              \"San Francisco Bay Area\",\n",
    "              \"Central Coast\",\n",
    "              \"Southern California\"])\n",
    "\n",
    "table_2005_2010['Total Supply'] = table_2005_2010['Total Supply AG (includes Reuse)'] + table_2005_2010['Total Supply Urban (includes Reuse)'] + table_2005_2010['Total Supply MW (includes Reuse)']\n",
    "table_2005_2010['Total Non-GW AG'] = table_2005_2010['Total Supply AG (includes Reuse)'] - table_2005_2010['Total GW AG']\n",
    "table_2005_2010['Total Non-GW Urban'] = table_2005_2010['Total Supply Urban (includes Reuse)'] - table_2005_2010['Total GW Urban']\n",
    "table_2005_2010['Total Non-GW MW'] = table_2005_2010['Total Supply MW (includes Reuse)'] - table_2005_2010['Total GW MW']\n",
    "table_2005_2010['Total Non-GW Supply'] = table_2005_2010['Total Supply'] - table_2005_2010['Total GW Use']\n",
    "\n",
    "cols_final = list(table_2005_2010.columns.values)\n",
    "cols_final = cols_final[0:3] + cols_final[7:8] + cols_final[3:7] + cols_final[8:]\n",
    "table_2005_2010 = table_2005_2010[cols_final]"
   ]
  },
  {
   "cell_type": "code",
   "execution_count": 10,
   "metadata": {},
   "outputs": [],
   "source": [
    "grouped_2005_2015 = round(data.groupby(['PA #']).mean(),1)\n",
    "table_2005_2015 = grouped_2005_2015.join(pa_region_lookup.set_index('PA #'), on='PA #')\n",
    "table_2005_2015 = table_2005_2015.drop(columns=['Year'])\n",
    "table_2005_2015 = table_2005_2015.groupby(['Region']).sum().reindex([\"Sacramento River Region\",\n",
    "             \"Delta Region\",\n",
    "             \"Delta Eastside Tributaries\",\n",
    "              \"San Joaquin Valley\",\n",
    "              \"San Francisco Bay Area\",\n",
    "              \"Central Coast\",\n",
    "              \"Southern California\"])\n",
    "\n",
    "table_2005_2015['Total Supply'] = table_2005_2015['Total Supply AG (includes Reuse)'] + table_2005_2015['Total Supply Urban (includes Reuse)'] + table_2005_2015['Total Supply MW (includes Reuse)']\n",
    "table_2005_2015['Total Non-GW AG'] = table_2005_2015['Total Supply AG (includes Reuse)'] - table_2005_2015['Total GW AG']\n",
    "table_2005_2015['Total Non-GW Urban'] = table_2005_2015['Total Supply Urban (includes Reuse)'] - table_2005_2015['Total GW Urban']\n",
    "table_2005_2015['Total Non-GW MW'] = table_2005_2015['Total Supply MW (includes Reuse)'] - table_2005_2015['Total GW MW']\n",
    "table_2005_2015['Total Non-GW Supply'] = table_2005_2015['Total Supply'] - table_2005_2015['Total GW Use']\n",
    "\n",
    "cols_final = list(table_2005_2015.columns.values)\n",
    "cols_final = cols_final[0:3] + cols_final[7:8] + cols_final[3:7] + cols_final[8:]\n",
    "table_2005_2015 = table_2005_2015[cols_final]"
   ]
  },
  {
   "cell_type": "code",
   "execution_count": 11,
   "metadata": {},
   "outputs": [],
   "source": [
    "grouped_2014 = round(data[data['Year'].isin(['2014'])].groupby(['PA #']).mean(),1)\n",
    "table_2014 = grouped_2014.join(pa_region_lookup.set_index('PA #'), on='PA #')\n",
    "table_2014 = table_2014.drop(columns=['Year'])\n",
    "table_2014 = table_2014.groupby(['Region']).sum().reindex([\"Sacramento River Region\",\n",
    "             \"Delta Region\",\n",
    "             \"Delta Eastside Tributaries\",\n",
    "              \"San Joaquin Valley\",\n",
    "              \"San Francisco Bay Area\",\n",
    "              \"Central Coast\",\n",
    "              \"Southern California\"])\n",
    "\n",
    "table_2014['Total Supply'] = table_2014['Total Supply AG (includes Reuse)'] + table_2014['Total Supply Urban (includes Reuse)'] + table_2014['Total Supply MW (includes Reuse)']\n",
    "table_2014['Total Non-GW AG'] = table_2014['Total Supply AG (includes Reuse)'] - table_2014['Total GW AG']\n",
    "table_2014['Total Non-GW Urban'] = table_2014['Total Supply Urban (includes Reuse)'] - table_2014['Total GW Urban']\n",
    "table_2014['Total Non-GW MW'] = table_2014['Total Supply MW (includes Reuse)'] - table_2014['Total GW MW']\n",
    "table_2014['Total Non-GW Supply'] = table_2014['Total Supply'] - table_2014['Total GW Use']\n",
    "\n",
    "cols_final = list(table_2014.columns.values)\n",
    "cols_final = cols_final[0:3] + cols_final[7:8] + cols_final[3:7] + cols_final[8:]\n",
    "table_2014 = table_2014[cols_final]"
   ]
  },
  {
   "cell_type": "code",
   "execution_count": 12,
   "metadata": {},
   "outputs": [],
   "source": [
    "grouped_2015 = round(data[data['Year'].isin(['2015'])].groupby(['PA #']).mean(),1)\n",
    "table_2015 = grouped_2015.join(pa_region_lookup.set_index('PA #'), on='PA #')\n",
    "table_2015 = table_2015.drop(columns=['Year'])\n",
    "table_2015 = table_2015.groupby(['Region']).sum().reindex([\"Sacramento River Region\",\n",
    "             \"Delta Region\",\n",
    "             \"Delta Eastside Tributaries\",\n",
    "              \"San Joaquin Valley\",\n",
    "              \"San Francisco Bay Area\",\n",
    "              \"Central Coast\",\n",
    "              \"Southern California\"])\n",
    "\n",
    "table_2015['Total Supply'] = table_2015['Total Supply AG (includes Reuse)'] + table_2015['Total Supply Urban (includes Reuse)'] + table_2015['Total Supply MW (includes Reuse)']\n",
    "table_2015['Total Non-GW AG'] = table_2015['Total Supply AG (includes Reuse)'] - table_2015['Total GW AG']\n",
    "table_2015['Total Non-GW Urban'] = table_2015['Total Supply Urban (includes Reuse)'] - table_2015['Total GW Urban']\n",
    "table_2015['Total Non-GW MW'] = table_2015['Total Supply MW (includes Reuse)'] - table_2015['Total GW MW']\n",
    "table_2015['Total Non-GW Supply'] = table_2015['Total Supply'] - table_2015['Total GW Use']\n",
    "\n",
    "cols_final = list(table_2015.columns.values)\n",
    "cols_final = cols_final[0:3] + cols_final[7:8] + cols_final[3:7] + cols_final[8:]\n",
    "table_2015 = table_2015[cols_final]"
   ]
  },
  {
   "cell_type": "code",
   "execution_count": 13,
   "metadata": {},
   "outputs": [],
   "source": [
    "with pd.ExcelWriter('S:/DWR/VOL1/BayDeltaDRV/Public Trust Unit/Work Projects/P2_General/California Water Plan Statistics/Summary_Tables.xlsx') as writer:\n",
    "    table_2005_2015.to_excel(writer, sheet_name='2005_2015')\n",
    "    table_2005_2010.to_excel(writer, sheet_name='2005_2010')\n",
    "    table_2014.to_excel(writer, sheet_name='2014')\n",
    "    table_2015.to_excel(writer, sheet_name = '2015')"
   ]
  }
 ],
 "metadata": {
  "kernelspec": {
   "display_name": "Python 3",
   "language": "python",
   "name": "python3"
  },
  "language_info": {
   "codemirror_mode": {
    "name": "ipython",
    "version": 3
   },
   "file_extension": ".py",
   "mimetype": "text/x-python",
   "name": "python",
   "nbconvert_exporter": "python",
   "pygments_lexer": "ipython3",
   "version": "3.7.3"
  }
 },
 "nbformat": 4,
 "nbformat_minor": 2
}
